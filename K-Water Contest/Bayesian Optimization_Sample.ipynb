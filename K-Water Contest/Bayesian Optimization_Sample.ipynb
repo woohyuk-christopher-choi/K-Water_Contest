{
 "cells": [
  {
   "cell_type": "markdown",
   "id": "c7c8f8af",
   "metadata": {},
   "source": [
    "# 필요한 라이브러리 불러오기"
   ]
  },
  {
   "cell_type": "code",
   "execution_count": 1,
   "id": "matched-globe",
   "metadata": {},
   "outputs": [
    {
     "name": "stdout",
     "output_type": "stream",
     "text": [
      "Requirement already satisfied: plaidml-keras in c:\\users\\owner\\.conda\\envs\\tensor\\lib\\site-packages (0.7.0)\n",
      "Requirement already satisfied: six in c:\\users\\owner\\.conda\\envs\\tensor\\lib\\site-packages (from plaidml-keras) (1.15.0)\n",
      "Requirement already satisfied: keras==2.2.4 in c:\\users\\owner\\.conda\\envs\\tensor\\lib\\site-packages (from plaidml-keras) (2.2.4)\n",
      "Requirement already satisfied: plaidml in c:\\users\\owner\\.conda\\envs\\tensor\\lib\\site-packages (from plaidml-keras) (0.7.0)\n",
      "Requirement already satisfied: keras-applications>=1.0.6 in c:\\users\\owner\\.conda\\envs\\tensor\\lib\\site-packages (from keras==2.2.4->plaidml-keras) (1.0.8)\n",
      "Requirement already satisfied: pyyaml in c:\\users\\owner\\.conda\\envs\\tensor\\lib\\site-packages (from keras==2.2.4->plaidml-keras) (5.4.1)\n",
      "Requirement already satisfied: keras-preprocessing>=1.0.5 in c:\\users\\owner\\.conda\\envs\\tensor\\lib\\site-packages (from keras==2.2.4->plaidml-keras) (1.1.2)\n",
      "Requirement already satisfied: numpy>=1.9.1 in c:\\users\\owner\\.conda\\envs\\tensor\\lib\\site-packages (from keras==2.2.4->plaidml-keras) (1.18.5)\n",
      "Requirement already satisfied: h5py in c:\\users\\owner\\.conda\\envs\\tensor\\lib\\site-packages (from keras==2.2.4->plaidml-keras) (2.10.0)\n",
      "Requirement already satisfied: scipy>=0.14 in c:\\users\\owner\\.conda\\envs\\tensor\\lib\\site-packages (from keras==2.2.4->plaidml-keras) (1.4.1)\n",
      "Requirement already satisfied: cffi in c:\\users\\owner\\.conda\\envs\\tensor\\lib\\site-packages (from plaidml->plaidml-keras) (1.14.5)\n",
      "Requirement already satisfied: enum34>=1.1.6 in c:\\users\\owner\\.conda\\envs\\tensor\\lib\\site-packages (from plaidml->plaidml-keras) (1.1.10)\n",
      "Requirement already satisfied: pycparser in c:\\users\\owner\\.conda\\envs\\tensor\\lib\\site-packages (from cffi->plaidml->plaidml-keras) (2.20)\n",
      "Note: you may need to restart the kernel to use updated packages.\n"
     ]
    }
   ],
   "source": [
    "#pip install plaidml-keras"
   ]
  },
  {
   "cell_type": "code",
   "execution_count": 2,
   "id": "fancy-standing",
   "metadata": {},
   "outputs": [
    {
     "name": "stdout",
     "output_type": "stream",
     "text": [
      "Requirement already satisfied: hyperopt in c:\\users\\owner\\.conda\\envs\\tensor\\lib\\site-packages (0.2.7)\n",
      "Requirement already satisfied: tqdm in c:\\users\\owner\\.conda\\envs\\tensor\\lib\\site-packages (from hyperopt) (4.60.0)\n",
      "Requirement already satisfied: scipy in c:\\users\\owner\\.conda\\envs\\tensor\\lib\\site-packages (from hyperopt) (1.4.1)\n",
      "Requirement already satisfied: py4j in c:\\users\\owner\\.conda\\envs\\tensor\\lib\\site-packages (from hyperopt) (0.10.9.3)\n",
      "Requirement already satisfied: networkx>=2.2 in c:\\users\\owner\\.conda\\envs\\tensor\\lib\\site-packages (from hyperopt) (2.6.3)\n",
      "Requirement already satisfied: cloudpickle in c:\\users\\owner\\.conda\\envs\\tensor\\lib\\site-packages (from hyperopt) (2.0.0)\n",
      "Requirement already satisfied: future in c:\\users\\owner\\.conda\\envs\\tensor\\lib\\site-packages (from hyperopt) (0.18.2)\n",
      "Requirement already satisfied: numpy in c:\\users\\owner\\.conda\\envs\\tensor\\lib\\site-packages (from hyperopt) (1.18.5)\n",
      "Requirement already satisfied: six in c:\\users\\owner\\.conda\\envs\\tensor\\lib\\site-packages (from hyperopt) (1.15.0)\n",
      "Note: you may need to restart the kernel to use updated packages.\n"
     ]
    }
   ],
   "source": [
    "#pip install hyperopt"
   ]
  },
  {
   "cell_type": "code",
   "execution_count": 3,
   "id": "f738563d",
   "metadata": {
    "ExecuteTime": {
     "end_time": "2021-11-17T08:09:03.156947Z",
     "start_time": "2021-11-17T08:09:02.397116Z"
    }
   },
   "outputs": [],
   "source": [
    "import plaidml\n",
    "import plaidml.keras\n",
    "plaidml.keras.install_backend()"
   ]
  },
  {
   "cell_type": "code",
   "execution_count": 4,
   "id": "a30b1304",
   "metadata": {
    "ExecuteTime": {
     "end_time": "2021-11-17T08:09:11.947794Z",
     "start_time": "2021-11-17T08:09:04.194025Z"
    }
   },
   "outputs": [
    {
     "name": "stdout",
     "output_type": "stream",
     "text": [
      "Setup Complete\n"
     ]
    }
   ],
   "source": [
    "# 데이터처리\n",
    "import pandas as pd\n",
    "pd.plotting.register_matplotlib_converters()\n",
    "import matplotlib.pyplot as plt\n",
    "%matplotlib inline\n",
    "import seaborn as sns\n",
    "import matplotlib.dates as mdates\n",
    "import numpy as np # linear algebra\n",
    "import math   \n",
    "from datetime import datetime, date \n",
    "\n",
    "# 기타시스템\n",
    "import warnings\n",
    "warnings.filterwarnings('ignore')\n",
    "\n",
    "# 데이터분리\n",
    "from sklearn.model_selection import train_test_split\n",
    "\n",
    "# 최적화\n",
    "try : \n",
    "    from bayes_opt import BayesianOptimization \n",
    "except : \n",
    "    !pip install bayesian-optimization\n",
    "    \n",
    "import hyperopt\n",
    "from hyperopt import fmin, tpe, hp, STATUS_OK, Trials\n",
    "    \n",
    "# 정규화\n",
    "from sklearn.preprocessing import MinMaxScaler\n",
    "\n",
    "\n",
    "# 평가지표\n",
    "from sklearn.metrics import mean_squared_error\n",
    "from sklearn.metrics import mean_absolute_error, mean_squared_error\n",
    "from sklearn.metrics import r2_score\n",
    "\n",
    "# 딥러닝\n",
    "try : \n",
    "    import keras\n",
    "except :\n",
    "    !pip install keras\n",
    "from tensorflow import keras\n",
    "from tensorflow.keras import layers\n",
    "from keras.models import Sequential\n",
    "from keras.layers import Dense\n",
    "from keras.layers import SimpleRNN, LSTM, GRU\n",
    "from keras.layers import Input, Dense, Activation, Flatten, Dropout\n",
    "\n",
    "print(\"Setup Complete\")"
   ]
  },
  {
   "cell_type": "markdown",
   "id": "4c4ca4bb",
   "metadata": {},
   "source": [
    "# 데이터 불러오기"
   ]
  },
  {
   "cell_type": "code",
   "execution_count": 5,
   "id": "ed8d904f",
   "metadata": {
    "ExecuteTime": {
     "end_time": "2021-11-17T08:09:15.198197Z",
     "start_time": "2021-11-17T08:09:14.890025Z"
    }
   },
   "outputs": [
    {
     "data": {
      "text/html": [
       "<div>\n",
       "<style scoped>\n",
       "    .dataframe tbody tr th:only-of-type {\n",
       "        vertical-align: middle;\n",
       "    }\n",
       "\n",
       "    .dataframe tbody tr th {\n",
       "        vertical-align: top;\n",
       "    }\n",
       "\n",
       "    .dataframe thead th {\n",
       "        text-align: right;\n",
       "    }\n",
       "</style>\n",
       "<table border=\"1\" class=\"dataframe\">\n",
       "  <thead>\n",
       "    <tr style=\"text-align: right;\">\n",
       "      <th></th>\n",
       "      <th>일시</th>\n",
       "      <th>댐수위(ELm)</th>\n",
       "      <th>강우량(mm)</th>\n",
       "      <th>유입량(㎡/sec)</th>\n",
       "      <th>총방류량(㎡/sec)</th>\n",
       "      <th>댐수위(ELm).1</th>\n",
       "      <th>강우량(mm).1</th>\n",
       "      <th>유입량(㎡/sec).1</th>\n",
       "      <th>총방류량(㎡/sec).1</th>\n",
       "      <th>댐수위(ELm).2</th>\n",
       "      <th>강우량(mm).2</th>\n",
       "      <th>유입량(㎡/sec).2</th>\n",
       "      <th>총방류량(㎡/sec).2</th>\n",
       "      <th>댐수위(ELm).3</th>\n",
       "      <th>강우량(mm).3</th>\n",
       "      <th>유입량(㎡/sec).3</th>\n",
       "      <th>총방류량(㎡/sec).3</th>\n",
       "    </tr>\n",
       "  </thead>\n",
       "  <tbody>\n",
       "    <tr>\n",
       "      <th>0</th>\n",
       "      <td>2001-07-13 17:00</td>\n",
       "      <td>188.11</td>\n",
       "      <td>0.0</td>\n",
       "      <td>128.9</td>\n",
       "      <td>27.1</td>\n",
       "      <td>102.41</td>\n",
       "      <td>0.0</td>\n",
       "      <td>127.8</td>\n",
       "      <td>27.6</td>\n",
       "      <td>92.74</td>\n",
       "      <td>0.0</td>\n",
       "      <td>34.1</td>\n",
       "      <td>34.1</td>\n",
       "      <td>45.00</td>\n",
       "      <td>0.0</td>\n",
       "      <td>0.0</td>\n",
       "      <td>0.0</td>\n",
       "    </tr>\n",
       "    <tr>\n",
       "      <th>1</th>\n",
       "      <td>2001-07-13 18:00</td>\n",
       "      <td>188.13</td>\n",
       "      <td>0.0</td>\n",
       "      <td>106.3</td>\n",
       "      <td>27.1</td>\n",
       "      <td>102.43</td>\n",
       "      <td>0.0</td>\n",
       "      <td>133.5</td>\n",
       "      <td>27.7</td>\n",
       "      <td>92.74</td>\n",
       "      <td>0.0</td>\n",
       "      <td>34.1</td>\n",
       "      <td>34.1</td>\n",
       "      <td>45.00</td>\n",
       "      <td>0.0</td>\n",
       "      <td>0.0</td>\n",
       "      <td>0.0</td>\n",
       "    </tr>\n",
       "    <tr>\n",
       "      <th>2</th>\n",
       "      <td>2001-07-13 19:00</td>\n",
       "      <td>188.14</td>\n",
       "      <td>0.0</td>\n",
       "      <td>100.9</td>\n",
       "      <td>27.1</td>\n",
       "      <td>102.44</td>\n",
       "      <td>0.0</td>\n",
       "      <td>116.9</td>\n",
       "      <td>27.7</td>\n",
       "      <td>92.74</td>\n",
       "      <td>0.0</td>\n",
       "      <td>34.1</td>\n",
       "      <td>34.1</td>\n",
       "      <td>45.00</td>\n",
       "      <td>0.0</td>\n",
       "      <td>0.0</td>\n",
       "      <td>0.0</td>\n",
       "    </tr>\n",
       "    <tr>\n",
       "      <th>3</th>\n",
       "      <td>2001-07-13 20:00</td>\n",
       "      <td>188.16</td>\n",
       "      <td>0.0</td>\n",
       "      <td>101</td>\n",
       "      <td>27.1</td>\n",
       "      <td>102.46</td>\n",
       "      <td>0.0</td>\n",
       "      <td>122.6</td>\n",
       "      <td>27.7</td>\n",
       "      <td>92.74</td>\n",
       "      <td>0.0</td>\n",
       "      <td>34.1</td>\n",
       "      <td>34.1</td>\n",
       "      <td>45.00</td>\n",
       "      <td>0.0</td>\n",
       "      <td>0.0</td>\n",
       "      <td>0.0</td>\n",
       "    </tr>\n",
       "    <tr>\n",
       "      <th>4</th>\n",
       "      <td>2001-07-13 21:00</td>\n",
       "      <td>188.17</td>\n",
       "      <td>0.0</td>\n",
       "      <td>95.3</td>\n",
       "      <td>26.6</td>\n",
       "      <td>102.47</td>\n",
       "      <td>0.0</td>\n",
       "      <td>111.5</td>\n",
       "      <td>27.7</td>\n",
       "      <td>92.74</td>\n",
       "      <td>0.0</td>\n",
       "      <td>34.1</td>\n",
       "      <td>34.1</td>\n",
       "      <td>45.00</td>\n",
       "      <td>0.0</td>\n",
       "      <td>0.0</td>\n",
       "      <td>0.0</td>\n",
       "    </tr>\n",
       "    <tr>\n",
       "      <th>...</th>\n",
       "      <td>...</td>\n",
       "      <td>...</td>\n",
       "      <td>...</td>\n",
       "      <td>...</td>\n",
       "      <td>...</td>\n",
       "      <td>...</td>\n",
       "      <td>...</td>\n",
       "      <td>...</td>\n",
       "      <td>...</td>\n",
       "      <td>...</td>\n",
       "      <td>...</td>\n",
       "      <td>...</td>\n",
       "      <td>...</td>\n",
       "      <td>...</td>\n",
       "      <td>...</td>\n",
       "      <td>...</td>\n",
       "      <td>...</td>\n",
       "    </tr>\n",
       "    <tr>\n",
       "      <th>175652</th>\n",
       "      <td>2021-07-28 12:00</td>\n",
       "      <td>185.02</td>\n",
       "      <td>0.0</td>\n",
       "      <td>0</td>\n",
       "      <td>36.2</td>\n",
       "      <td>102.86</td>\n",
       "      <td>0.0</td>\n",
       "      <td>20.6</td>\n",
       "      <td>20.6</td>\n",
       "      <td>100.10</td>\n",
       "      <td>0.0</td>\n",
       "      <td>9.5</td>\n",
       "      <td>9.5</td>\n",
       "      <td>76.99</td>\n",
       "      <td>0.0</td>\n",
       "      <td>4.8</td>\n",
       "      <td>4.8</td>\n",
       "    </tr>\n",
       "    <tr>\n",
       "      <th>175653</th>\n",
       "      <td>2021-07-28 13:00</td>\n",
       "      <td>185.01</td>\n",
       "      <td>0.0</td>\n",
       "      <td>0</td>\n",
       "      <td>36.2</td>\n",
       "      <td>102.86</td>\n",
       "      <td>0.0</td>\n",
       "      <td>20.6</td>\n",
       "      <td>20.6</td>\n",
       "      <td>100.11</td>\n",
       "      <td>0.0</td>\n",
       "      <td>26.1</td>\n",
       "      <td>9.5</td>\n",
       "      <td>76.99</td>\n",
       "      <td>0.0</td>\n",
       "      <td>4.8</td>\n",
       "      <td>4.8</td>\n",
       "    </tr>\n",
       "    <tr>\n",
       "      <th>175654</th>\n",
       "      <td>2021-07-28 14:00</td>\n",
       "      <td>185.00</td>\n",
       "      <td>0.0</td>\n",
       "      <td>0</td>\n",
       "      <td>36.2</td>\n",
       "      <td>102.86</td>\n",
       "      <td>0.0</td>\n",
       "      <td>21.3</td>\n",
       "      <td>21.3</td>\n",
       "      <td>100.11</td>\n",
       "      <td>0.0</td>\n",
       "      <td>9.5</td>\n",
       "      <td>9.5</td>\n",
       "      <td>76.99</td>\n",
       "      <td>0.0</td>\n",
       "      <td>4.8</td>\n",
       "      <td>4.8</td>\n",
       "    </tr>\n",
       "    <tr>\n",
       "      <th>175655</th>\n",
       "      <td>2021-07-28 15:00</td>\n",
       "      <td>185.00</td>\n",
       "      <td>0.0</td>\n",
       "      <td>36.1</td>\n",
       "      <td>36.1</td>\n",
       "      <td>102.85</td>\n",
       "      <td>0.0</td>\n",
       "      <td>0</td>\n",
       "      <td>21.7</td>\n",
       "      <td>100.11</td>\n",
       "      <td>0.0</td>\n",
       "      <td>9.4</td>\n",
       "      <td>9.4</td>\n",
       "      <td>76.99</td>\n",
       "      <td>0.0</td>\n",
       "      <td>4.8</td>\n",
       "      <td>4.8</td>\n",
       "    </tr>\n",
       "    <tr>\n",
       "      <th>175656</th>\n",
       "      <td>2021-07-28 16:00</td>\n",
       "      <td>184.99</td>\n",
       "      <td>0.0</td>\n",
       "      <td>0</td>\n",
       "      <td>36.2</td>\n",
       "      <td>102.85</td>\n",
       "      <td>0.0</td>\n",
       "      <td>20.8</td>\n",
       "      <td>20.8</td>\n",
       "      <td>100.11</td>\n",
       "      <td>0.0</td>\n",
       "      <td>9.3</td>\n",
       "      <td>9.3</td>\n",
       "      <td>76.99</td>\n",
       "      <td>0.0</td>\n",
       "      <td>4.8</td>\n",
       "      <td>4.8</td>\n",
       "    </tr>\n",
       "  </tbody>\n",
       "</table>\n",
       "<p>175657 rows × 17 columns</p>\n",
       "</div>"
      ],
      "text/plain": [
       "                      일시  댐수위(ELm)  강우량(mm) 유입량(㎡/sec) 총방류량(㎡/sec)  \\\n",
       "0       2001-07-13 17:00    188.11      0.0      128.9        27.1   \n",
       "1       2001-07-13 18:00    188.13      0.0      106.3        27.1   \n",
       "2       2001-07-13 19:00    188.14      0.0      100.9        27.1   \n",
       "3       2001-07-13 20:00    188.16      0.0        101        27.1   \n",
       "4       2001-07-13 21:00    188.17      0.0       95.3        26.6   \n",
       "...                  ...       ...      ...        ...         ...   \n",
       "175652  2021-07-28 12:00    185.02      0.0          0        36.2   \n",
       "175653  2021-07-28 13:00    185.01      0.0          0        36.2   \n",
       "175654  2021-07-28 14:00    185.00      0.0          0        36.2   \n",
       "175655  2021-07-28 15:00    185.00      0.0       36.1        36.1   \n",
       "175656  2021-07-28 16:00    184.99      0.0          0        36.2   \n",
       "\n",
       "        댐수위(ELm).1  강우량(mm).1 유입량(㎡/sec).1 총방류량(㎡/sec).1  댐수위(ELm).2  \\\n",
       "0           102.41        0.0        127.8          27.6       92.74   \n",
       "1           102.43        0.0        133.5          27.7       92.74   \n",
       "2           102.44        0.0        116.9          27.7       92.74   \n",
       "3           102.46        0.0        122.6          27.7       92.74   \n",
       "4           102.47        0.0        111.5          27.7       92.74   \n",
       "...            ...        ...          ...           ...         ...   \n",
       "175652      102.86        0.0         20.6          20.6      100.10   \n",
       "175653      102.86        0.0         20.6          20.6      100.11   \n",
       "175654      102.86        0.0         21.3          21.3      100.11   \n",
       "175655      102.85        0.0            0          21.7      100.11   \n",
       "175656      102.85        0.0         20.8          20.8      100.11   \n",
       "\n",
       "        강우량(mm).2 유입량(㎡/sec).2  총방류량(㎡/sec).2  댐수위(ELm).3  강우량(mm).3  \\\n",
       "0             0.0         34.1           34.1       45.00        0.0   \n",
       "1             0.0         34.1           34.1       45.00        0.0   \n",
       "2             0.0         34.1           34.1       45.00        0.0   \n",
       "3             0.0         34.1           34.1       45.00        0.0   \n",
       "4             0.0         34.1           34.1       45.00        0.0   \n",
       "...           ...          ...            ...         ...        ...   \n",
       "175652        0.0          9.5            9.5       76.99        0.0   \n",
       "175653        0.0         26.1            9.5       76.99        0.0   \n",
       "175654        0.0          9.5            9.5       76.99        0.0   \n",
       "175655        0.0          9.4            9.4       76.99        0.0   \n",
       "175656        0.0          9.3            9.3       76.99        0.0   \n",
       "\n",
       "       유입량(㎡/sec).3  총방류량(㎡/sec).3  \n",
       "0               0.0            0.0  \n",
       "1               0.0            0.0  \n",
       "2               0.0            0.0  \n",
       "3               0.0            0.0  \n",
       "4               0.0            0.0  \n",
       "...             ...            ...  \n",
       "175652          4.8            4.8  \n",
       "175653          4.8            4.8  \n",
       "175654          4.8            4.8  \n",
       "175655          4.8            4.8  \n",
       "175656          4.8            4.8  \n",
       "\n",
       "[175657 rows x 17 columns]"
      ]
     },
     "execution_count": 5,
     "metadata": {},
     "output_type": "execute_result"
    }
   ],
   "source": [
    "dam = pd.read_csv(\"C:\", encoding= 'cp949')\n",
    "# dam = pd.read_csv(\"testdata.csv\")\n",
    "dam"
   ]
  },
  {
   "cell_type": "markdown",
   "id": "fd0248b1",
   "metadata": {},
   "source": [
    "## 데이터 분리"
   ]
  },
  {
   "cell_type": "code",
   "execution_count": 29,
   "id": "0b093f6a",
   "metadata": {
    "ExecuteTime": {
     "end_time": "2021-11-17T08:09:48.965958Z",
     "start_time": "2021-11-17T08:09:48.955955Z"
    }
   },
   "outputs": [],
   "source": [
    "def datasplit_ts(raw, Y_colname, X_colname, criteria):\n",
    "    raw_train = raw.loc[raw.index < criteria,:]\n",
    "    raw_test = raw.loc[raw.index >= criteria,:]\n",
    "    Y_train = raw_train[Y_colname]\n",
    "    X_train = raw_train[X_colname]\n",
    "    Y_test = raw_test[Y_colname]\n",
    "    X_test = raw_test[X_colname]\n",
    "    print('Train_size:', raw_train.shape, 'Test_size:', raw_test.shape)\n",
    "    print('X_train:', X_train.shape, 'Y_train:', Y_train.shape)\n",
    "    print('X_test:', X_test.shape, 'Y_test:', Y_test.shape)\n",
    "    return X_train, X_test, Y_train, Y_test"
   ]
  },
  {
   "cell_type": "markdown",
   "id": "6c4a7a74",
   "metadata": {},
   "source": [
    "# 파라미터 찾기제작"
   ]
  },
  {
   "cell_type": "code",
   "execution_count": 30,
   "id": "9e478bc4",
   "metadata": {
    "ExecuteTime": {
     "end_time": "2021-11-17T08:09:50.459004Z",
     "start_time": "2021-11-17T08:09:50.448992Z"
    }
   },
   "outputs": [],
   "source": [
    "#모델에 필요한 하이퍼파라미터의 범위를 설정하여 설정한 범위 안에서 최적의 하이퍼파라미터를 찾을 수 있음\n",
    "space={'batch_size': hp.quniform(\"batch_size\", 64, 385, 64), #(최소범위, 최대범위+1, 범위 안에서의 구간 설정)\n",
    "       'sequence': hp.quniform ('sequence', 24, 73, 24),  #예를 들어 (24,73,24)일 경우, 24에서 72까지의 범위에서 24구간으로 24, 48, 72 중 최적 값을 찾음\n",
    "       'dropout_ratio': hp.quniform('dropout_ratio', 0, 0.6, 0.1),\n",
    "       'epoch' : hp.quniform('epoch', 10, 51, 10)\n",
    "      }"
   ]
  },
  {
   "cell_type": "code",
   "execution_count": 31,
   "id": "149f45a6",
   "metadata": {
    "ExecuteTime": {
     "end_time": "2021-11-17T08:09:50.836722Z",
     "start_time": "2021-11-17T08:09:50.825711Z"
    }
   },
   "outputs": [],
   "source": [
    "#아래 코드에서 사용하려는 모델의 구조를 설정하여, 모델에 맞는 최적화를 실행\n",
    "\n",
    "def hyperparameter_tuning(space):\n",
    "    \n",
    "    sequence = int(space['sequence'])\n",
    "    \n",
    "    Y_colname = ['water_level2']\n",
    "    X_remove = ['date', 'datetime','water_level','water_level3','water_level4']\n",
    "    X_colname = [x for x in features.columns if x not in Y_colname+X_remove]\n",
    "    X_train, X_test, Y_train, Y_test = datasplit_ts(raw_nfe, Y_colname, X_colname, '2017-01-01')\n",
    "    # Parameters\n",
    "    scaler_X_tr = MinMaxScaler()\n",
    "    scaler_Y_tr = MinMaxScaler()\n",
    "\n",
    "    # Feature Engineering\n",
    "    ## 스케일링\n",
    "    X_train_scaled = scaler_X_tr.fit_transform(X_train)\n",
    "    Y_train_scaled = scaler_Y_tr.fit_transform(Y_train)\n",
    "    X_test_scaled = scaler_X_tr.transform(X_test)\n",
    "    Y_test_scaled = scaler_Y_tr.transform(Y_test)\n",
    "    \n",
    "    ## X / Y 분리\n",
    "    X_train, Y_train = [], []\n",
    "    for index in range(len(X_train_scaled) - sequence):\n",
    "        X_train.append(np.array(X_train_scaled[index: index + sequence]))\n",
    "        Y_train.append(np.ravel(Y_train_scaled[index + sequence:index + sequence + 1]))\n",
    "    X_train, Y_train = np.array(X_train), np.array(Y_train)\n",
    "    X_test, Y_test = [], []\n",
    "    for index in range(len(X_test_scaled) - sequence):\n",
    "        X_test.append(np.array(X_test_scaled[index: index + sequence]))\n",
    "        Y_test.append(np.ravel(Y_test_scaled[index + sequence:index + sequence + 1]))  \n",
    "    X_test, Y_test = np.array(X_test), np.array(Y_test) \n",
    "\n",
    "    # Retype and Reshape\n",
    "    X_train = X_train.reshape(X_train.shape[0], sequence, -1)\n",
    "    X_test = X_test.reshape(X_test.shape[0], sequence, -1)\n",
    "#     print('X_train:', X_train.shape, 'Y_train:', Y_train.shape)\n",
    "#     print('X_test:', X_test.shape, 'Y_test:', Y_test.shape)\n",
    "\n",
    "    evaluation = [(X_train, Y_train), (X_test, Y_test)]\n",
    "    \n",
    "    # GRU\n",
    "    model = Sequential()\n",
    "    model.add(GRU(128, input_shape=(X_train.shape[1], X_train.shape[2]), return_sequences=True, activation='relu'))\n",
    "    model.add(Dropout(space['dropout_ratio'])) \n",
    "    model.add(GRU(64, return_sequences=False, activation=\"relu\"))\n",
    "    model.add(Dropout(space['dropout_ratio'])) \n",
    "    model.add(Dense(1))\n",
    "    model.compile(optimizer='adam', loss='mean_squared_error')\n",
    "    # model.summary()\n",
    "    model_fit = model.fit(X_train, Y_train, \n",
    "                              batch_size=int(space['batch_size']), epochs= int(space['epoch']),\n",
    "                              verbose=0)\n",
    "    pred = model.predict(X_test)\n",
    "    mse= mean_squared_error(Y_test, pred)\n",
    "    r2 = r2_score(Y_test, pred)\n",
    "    \n",
    "    # 평가 방식 선정\n",
    "    return {'loss':mse, 'status': STATUS_OK, 'model': model}\n",
    "        \n",
    "    "
   ]
  },
  {
   "cell_type": "code",
   "execution_count": 32,
   "id": "1d2cb5d7",
   "metadata": {
    "ExecuteTime": {
     "end_time": "2021-11-17T08:55:56.130633Z",
     "start_time": "2021-11-17T08:09:51.550565Z"
    }
   },
   "outputs": [
    {
     "name": "stdout",
     "output_type": "stream",
     "text": [
      "Train_size:                                          \n",
      "(135607, 22)                                         \n",
      "Test_size:                                           \n",
      "(40073, 22)                                          \n",
      "X_train:                                             \n",
      "(135607, 16)                                         \n",
      "Y_train:                                             \n",
      "(135607, 1)                                          \n",
      "X_test:                                              \n",
      "(40073, 16)                                          \n",
      "Y_test:                                              \n",
      "(40073, 1)                                           \n",
      "  0%|          | 0/4 [00:00<?, ?trial/s, best loss=?]"
     ]
    },
    {
     "name": "stderr",
     "output_type": "stream",
     "text": [
      "INFO:plaidml:Opening device \"opencl_nvidia_geforce_gtx_1660_super.0\"\n",
      "INFO:plaidml:Analyzing Ops: 5862 of 10725 operations complete\n",
      "INFO:plaidml:Analyzing Ops: 4746 of 10725 operations complete\n"
     ]
    },
    {
     "name": "stdout",
     "output_type": "stream",
     "text": [
      "Train_size:                                                                          \n",
      "(135607, 22)                                                                         \n",
      "Test_size:                                                                           \n",
      "(40073, 22)                                                                          \n",
      "X_train:                                                                             \n",
      "(135607, 16)                                                                         \n",
      "Y_train:                                                                             \n",
      "(135607, 1)                                                                          \n",
      "X_test:                                                                              \n",
      "(40073, 16)                                                                          \n",
      "Y_test:                                                                              \n",
      "(40073, 1)                                                                           \n",
      " 25%|██▌       | 1/4 [26:35<1:19:45, 1595.30s/trial, best loss: 0.023695736450656674]"
     ]
    },
    {
     "name": "stderr",
     "output_type": "stream",
     "text": [
      "INFO:plaidml:Analyzing Ops: 6709 of 7222 operations complete\n",
      "INFO:plaidml:Analyzing Ops: 6349 of 7222 operations complete\n"
     ]
    },
    {
     "name": "stdout",
     "output_type": "stream",
     "text": [
      "Train_size:                                                                          \n",
      "(135607, 22)                                                                       \n",
      "Test_size:                                                                         \n",
      "(40073, 22)                                                                        \n",
      "X_train:                                                                           \n",
      "(135607, 16)                                                                       \n",
      "Y_train:                                                                           \n",
      "(135607, 1)                                                                        \n",
      "X_test:                                                                            \n",
      "(40073, 16)                                                                        \n",
      "Y_test:                                                                            \n",
      "(40073, 1)                                                                         \n",
      " 50%|█████     | 2/4 [37:12<34:23, 1031.87s/trial, best loss: 0.023695736450656674]"
     ]
    },
    {
     "name": "stderr",
     "output_type": "stream",
     "text": [
      "INFO:plaidml:Analyzing Ops: 5066 of 7222 operations complete\n",
      "INFO:plaidml:Analyzing Ops: 4226 of 7222 operations complete\n"
     ]
    },
    {
     "name": "stdout",
     "output_type": "stream",
     "text": [
      "Train_size:                                                                        \n",
      "(135607, 22)                                                                      \n",
      "Test_size:                                                                        \n",
      "(40073, 22)                                                                       \n",
      "X_train:                                                                          \n",
      "(135607, 16)                                                                      \n",
      "Y_train:                                                                          \n",
      "(135607, 1)                                                                       \n",
      "X_test:                                                                           \n",
      "(40073, 16)                                                                       \n",
      "Y_test:                                                                           \n",
      "(40073, 1)                                                                        \n",
      " 75%|███████▌  | 3/4 [51:23<15:49, 949.26s/trial, best loss: 0.023695736450656674]"
     ]
    },
    {
     "name": "stderr",
     "output_type": "stream",
     "text": [
      "INFO:plaidml:Analyzing Ops: 5866 of 7222 operations complete\n",
      "INFO:plaidml:Analyzing Ops: 5881 of 7222 operations complete\n",
      "ERROR:plaidml:unable to run OpenCL kernel kernel_c18_sdk_407: CL_MEM_OBJECT_ALLOCATION_FAILURE\n"
     ]
    },
    {
     "name": "stdout",
     "output_type": "stream",
     "text": [
      "100%|██████████| 4/4 [54:00<00:00, 810.10s/trial, best loss: 0.023695736450656674]\n",
      "{'batch_size': 320.0, 'dropout_ratio': 0.2, 'epoch': 50.0, 'sequence': 72.0}\n"
     ]
    }
   ],
   "source": [
    "trials = Trials()\n",
    "\n",
    "#max_evals가 최적화 수행을 몇 번 진행할 것인지를 결정하는데, 많이 하면 할수록 더 정확성이 높아질 거임\n",
    "best = fmin(fn=hyperparameter_tuning,\n",
    "            space=space,\n",
    "            algo=tpe.suggest,\n",
    "            max_evals=4,  #(4번)\n",
    "            trials=trials)\n",
    "\n",
    "best['batch_size'] = best['batch_size']\n",
    "best['sequence'] = best['sequence']\n",
    "best['dropout_ratio'] = best['dropout_ratio']\n",
    "best['epoch'] = best['epoch']\n",
    "print (best)"
   ]
  },
  {
   "cell_type": "code",
   "execution_count": null,
   "id": "dated-graham",
   "metadata": {},
   "outputs": [],
   "source": [
    " "
   ]
  }
 ],
 "metadata": {
  "hide_input": false,
  "kernelspec": {
   "display_name": "Python 3 (ipykernel)",
   "language": "python",
   "name": "python3"
  },
  "language_info": {
   "codemirror_mode": {
    "name": "ipython",
    "version": 3
   },
   "file_extension": ".py",
   "mimetype": "text/x-python",
   "name": "python",
   "nbconvert_exporter": "python",
   "pygments_lexer": "ipython3",
   "version": "3.8.13"
  },
  "toc": {
   "base_numbering": 1,
   "nav_menu": {},
   "number_sections": true,
   "sideBar": true,
   "skip_h1_title": false,
   "title_cell": "Table of Contents",
   "title_sidebar": "Contents",
   "toc_cell": false,
   "toc_position": {
    "height": "calc(100% - 180px)",
    "left": "10px",
    "top": "150px",
    "width": "256px"
   },
   "toc_section_display": true,
   "toc_window_display": true
  },
  "varInspector": {
   "cols": {
    "lenName": 16,
    "lenType": 16,
    "lenVar": 40
   },
   "kernels_config": {
    "python": {
     "delete_cmd_postfix": "",
     "delete_cmd_prefix": "del ",
     "library": "var_list.py",
     "varRefreshCmd": "print(var_dic_list())"
    },
    "r": {
     "delete_cmd_postfix": ") ",
     "delete_cmd_prefix": "rm(",
     "library": "var_list.r",
     "varRefreshCmd": "cat(var_dic_list()) "
    }
   },
   "types_to_exclude": [
    "module",
    "function",
    "builtin_function_or_method",
    "instance",
    "_Feature"
   ],
   "window_display": false
  }
 },
 "nbformat": 4,
 "nbformat_minor": 5
}
